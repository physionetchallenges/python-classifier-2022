{
 "cells": [
  {
   "cell_type": "code",
   "execution_count": 1,
   "metadata": {},
   "outputs": [],
   "source": [
    "data_dir = \"data/raw_training/training_data\""
   ]
  },
  {
   "cell_type": "code",
   "execution_count": 2,
   "metadata": {},
   "outputs": [
    {
     "name": "stdout",
     "output_type": "stream",
     "text": [
      "Ingesting data from  data/raw_training/training_data\n",
      "shape: (5, 8)\n",
      "┌───────┬───────┬────────┬────────┬────────┬──────────┬─────────┬────────────────────┐\n",
      "│ id    ┆ age   ┆ sex    ┆ height ┆ weight ┆ pregnant ┆ murmur  ┆ audio_files        │\n",
      "│ ---   ┆ ---   ┆ ---    ┆ ---    ┆ ---    ┆ ---      ┆ ---     ┆ ---                │\n",
      "│ str   ┆ str   ┆ str    ┆ str    ┆ str    ┆ str      ┆ str     ┆ list [str]         │\n",
      "╞═══════╪═══════╪════════╪════════╪════════╪══════════╪═════════╪════════════════════╡\n",
      "│ 13918 ┆ Child ┆ Male   ┆ 98.0   ┆ 15.9   ┆ False    ┆ Present ┆ [\"13918_AV.wav\",   │\n",
      "│       ┆       ┆        ┆        ┆        ┆          ┆         ┆ \"13918_PV.wav\",... │\n",
      "├╌╌╌╌╌╌╌┼╌╌╌╌╌╌╌┼╌╌╌╌╌╌╌╌┼╌╌╌╌╌╌╌╌┼╌╌╌╌╌╌╌╌┼╌╌╌╌╌╌╌╌╌╌┼╌╌╌╌╌╌╌╌╌┼╌╌╌╌╌╌╌╌╌╌╌╌╌╌╌╌╌╌╌╌┤\n",
      "│ 14241 ┆ Child ┆ Male   ┆ 87.0   ┆ 11.2   ┆ False    ┆ Present ┆ [\"14241_AV.wav\",   │\n",
      "│       ┆       ┆        ┆        ┆        ┆          ┆         ┆ \"14241_PV.wav\",... │\n",
      "├╌╌╌╌╌╌╌┼╌╌╌╌╌╌╌┼╌╌╌╌╌╌╌╌┼╌╌╌╌╌╌╌╌┼╌╌╌╌╌╌╌╌┼╌╌╌╌╌╌╌╌╌╌┼╌╌╌╌╌╌╌╌╌┼╌╌╌╌╌╌╌╌╌╌╌╌╌╌╌╌╌╌╌╌┤\n",
      "│ 14998 ┆ Child ┆ Male   ┆ nan    ┆ nan    ┆ False    ┆ Absent  ┆ [\"14998_AV.wav\",   │\n",
      "│       ┆       ┆        ┆        ┆        ┆          ┆         ┆ \"14998_PV.wav\",... │\n",
      "├╌╌╌╌╌╌╌┼╌╌╌╌╌╌╌┼╌╌╌╌╌╌╌╌┼╌╌╌╌╌╌╌╌┼╌╌╌╌╌╌╌╌┼╌╌╌╌╌╌╌╌╌╌┼╌╌╌╌╌╌╌╌╌┼╌╌╌╌╌╌╌╌╌╌╌╌╌╌╌╌╌╌╌╌┤\n",
      "│ 23625 ┆ Child ┆ Female ┆ 92.0   ┆ 14.0   ┆ False    ┆ Absent  ┆ [\"23625_AV.wav\",   │\n",
      "│       ┆       ┆        ┆        ┆        ┆          ┆         ┆ \"23625_PV.wav\",... │\n",
      "├╌╌╌╌╌╌╌┼╌╌╌╌╌╌╌┼╌╌╌╌╌╌╌╌┼╌╌╌╌╌╌╌╌┼╌╌╌╌╌╌╌╌┼╌╌╌╌╌╌╌╌╌╌┼╌╌╌╌╌╌╌╌╌┼╌╌╌╌╌╌╌╌╌╌╌╌╌╌╌╌╌╌╌╌┤\n",
      "│ 24160 ┆ Child ┆ Female ┆ 98.0   ┆ 17.66  ┆ False    ┆ Absent  ┆ [\"24160_AV.wav\",   │\n",
      "│       ┆       ┆        ┆        ┆        ┆          ┆         ┆ \"24160_PV.wav\",... │\n",
      "└───────┴───────┴────────┴────────┴────────┴──────────┴─────────┴────────────────────┘\n"
     ]
    },
    {
     "name": "stderr",
     "output_type": "stream",
     "text": [
      "c:\\Users\\arcxo\\AppData\\Local\\Programs\\Python\\Python39\\lib\\site-packages\\pydub\\utils.py:170: RuntimeWarning: Couldn't find ffmpeg or avconv - defaulting to ffmpeg, but may not work\n",
      "  warn(\"Couldn't find ffmpeg or avconv - defaulting to ffmpeg, but may not work\", RuntimeWarning)\n"
     ]
    }
   ],
   "source": [
    "import helpers.input_processor as ip\n",
    "import helpers.audio_tools as auditools\n",
    "\n",
    "df = ip.ingestData(data_dir)\n",
    "\n",
    "print(df.head())\n"
   ]
  },
  {
   "cell_type": "code",
   "execution_count": 3,
   "metadata": {},
   "outputs": [
    {
     "name": "stderr",
     "output_type": "stream",
     "text": [
      "c:\\Users\\arcxo\\AppData\\Local\\Programs\\Python\\Python39\\lib\\site-packages\\polars\\internals\\frame.py:1254: UserWarning: accessing series as Attribute of a DataFrame is deprecated\n",
      "  warnings.warn(\"accessing series as Attribute of a DataFrame is deprecated\")\n"
     ]
    }
   ],
   "source": [
    "# loop through the audio files in the data frame\n",
    "spectrograms = []\n",
    "for i in range(len(df)):\n",
    "    # loop through the audio files in the data frame\n",
    "    spectro_array = []\n",
    "    for audio_file in df.audio_files[i]:\n",
    "        spectro_array.append(auditools.wav_to_spectrogram(data_dir + \"/\" + audio_file))\n",
    "    spectrograms.append(spectro_array)\n",
    "\n",
    "import matplotlib.pyplot as plt"
   ]
  },
  {
   "cell_type": "code",
   "execution_count": 4,
   "metadata": {},
   "outputs": [
    {
     "data": {
      "image/png": "[encoded data removed]",
      "text/plain": [
       "<Figure size 432x288 with 1 Axes>"
      ]
     },
     "metadata": {
      "needs_background": "light"
     },
     "output_type": "display_data"
    }
   ],
   "source": [
    "plt.imshow(spectrograms[3][1])\n",
    "plt.show()\n",
    "\n"
   ]
  }
 ],
 "metadata": {
  "interpreter": {
   "hash": "7b8c902a5db4bd22b43399a271754202218dc4d05c7622b2f621f708dd6b6e04"
  },
  "kernelspec": {
   "display_name": "Python 3.9.6 64-bit",
   "language": "python",
   "name": "python3"
  },
  "language_info": {
   "codemirror_mode": {
    "name": "ipython",
    "version": 3
   },
   "file_extension": ".py",
   "mimetype": "text/x-python",
   "name": "python",
   "nbconvert_exporter": "python",
   "pygments_lexer": "ipython3",
   "version": "3.9.6"
  },
  "orig_nbformat": 4
 },
 "nbformat": 4,
 "nbformat_minor": 2
}
