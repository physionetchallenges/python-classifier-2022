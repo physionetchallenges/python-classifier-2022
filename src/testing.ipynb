{
 "cells": [
  {
   "cell_type": "code",
   "execution_count": null,
   "metadata": {},
   "outputs": [],
   "source": [
    "import numpy as np\n",
    "import matplotlib.pyplot as plt\n",
    "from scipy import signal\n",
    "from scipy.io import wavfile\n",
    "\n",
    "sample_rate, samples = wavfile.read('data/raw_training/training_data/2530_AV.wav')\n",
    "frequencies, times, spectrogram = signal.spectrogram(samples, sample_rate)\n",
    "\n",
    "plt.pcolormesh(times, frequencies, spectrogram)\n",
    "plt.imshow(spectrogram, cmap='hot')\n",
    "plt.show()"
   ]
  },
  {
   "cell_type": "code",
   "execution_count": null,
   "metadata": {},
   "outputs": [],
   "source": [
    "encode = {\n",
    "        'Age':                      {'Neonate': 0.5, 'Infant': 6, 'Child': 6*12, 'Adolescent': 15*12, 'Young Adult': 20*12}, #represent each age group as the approximate number of months for the middle of the age group\n",
    "        'Sex':                      {'Male': 0, 'Female': 1},\n",
    "        'Pregnancy status':         {'True': 1, 'False': 0},\n",
    "        'Murmur':                   {'Present': 1, 'Absent': 0, 'Unkown': 2},\n",
    "        'location':                 {'PV': 0, 'TV': 1, 'AV': 2, 'MV': 3, 'Phc': 4},\n",
    "        'Systolic murmur timing':   {'Early-systolic': 0, 'Holosystolic': 1, 'Mid-systolic': 2, 'Late-systolic': 3},\n",
    "        'Systolic murmur shape':    {'Crescendo': 0, 'Decrescendo': 1, 'Diamond': 2, 'Plateau': 3},\n",
    "        'Systolic murmur pitch':    {'Low': 0, 'Medium': 1, 'High': 2},\n",
    "        'Systolic murmur grading':  {'I/VI': 0, 'II/VI': 1, 'III/VI': 2},\n",
    "        'Systolic murmur quality':  {'Blowing': 0, 'Harsh': 1, 'Musical': 2},\n",
    "        'Diastolic murmur timing':  {'Early-diastolic': 0, 'Holodiastolic': 1, 'Mid-diastolic': 2},\n",
    "        'Diastolic murmur shape':   {'Crescendo': 0, 'Decrescendo': 1, 'Diamond': 2, 'Plateau': 3}, #note: only decresendo and plateau are actually used, other items are included for consistency with 'systolic murmur shape'\n",
    "        'Diastolic murmur pitch':   {'Low': 0, 'Medium': 1, 'High': 2},\n",
    "        'Diastolic murmur grading': {'I/IV': 0, 'II/IV': 1, 'III/IV': 2},\n",
    "        'Diastolic murmur quality': {'Blowing': 0, 'Harsh': 1, 'Musical': 2}, #note: only blowing and harsh are actually used, other items are included for consistency with 'systolic murmur quality'\n",
    "        'Outcome':                  {'Abnormal': 0, 'Normal': 1}\n",
    "    }\n",
    "words = ['Absent', 'Unknown']\n",
    "print(encode.type)\n"
   ]
  },
  {
   "cell_type": "code",
   "execution_count": null,
   "metadata": {},
   "outputs": [],
   "source": [
    "from helpers.input_processor import invert_dict\n",
    "\n",
    "tester = {'a':1, 'b':2, 'c':3, 'a':4}\n",
    "tester_items = tester.items()\n",
    "result = invert_dict(tester)"
   ]
  },
  {
   "cell_type": "code",
   "execution_count": null,
   "metadata": {},
   "outputs": [],
   "source": [
    "from helpers.input_processor import load_cipher\n",
    "\n",
    "encode, decode = load_cipher()\n",
    "print(encode)\n",
    "print(\"\\n\\n\")\n",
    "print(decode)"
   ]
  },
  {
   "cell_type": "code",
   "execution_count": null,
   "metadata": {},
   "outputs": [],
   "source": [
    "txt = \"apple#banana#cherry#orange\"\n",
    "\n",
    "# setting the maxsplit parameter to 1, will return a list with 2 elements!\n",
    "x = txt.split(\"#\", 1)\n",
    "\n",
    "print(x)"
   ]
  },
  {
   "cell_type": "code",
   "execution_count": null,
   "metadata": {},
   "outputs": [],
   "source": [
    "from helpers.input_processor import *"
   ]
  },
  {
   "cell_type": "code",
   "execution_count": null,
   "metadata": {},
   "outputs": [],
   "source": [
    "from helpers.input_processor import *\n",
    "x = ['a']\n",
    "str_in = \"apple: yes\"\n",
    "\n",
    "check_feature(str_in, 'apple', x)"
   ]
  },
  {
   "cell_type": "code",
   "execution_count": null,
   "metadata": {},
   "outputs": [],
   "source": [
    "test = ['a','b','c']\n",
    "x,y,z = test[0], test[1], test[2]\n",
    "print(x)"
   ]
  },
  {
   "cell_type": "code",
   "execution_count": 1,
   "metadata": {},
   "outputs": [
    {
     "name": "stdout",
     "output_type": "stream",
     "text": [
      "Ingesting data from  data/raw_training/training_data\n"
     ]
    },
    {
     "ename": "ComputeError",
     "evalue": "struct orders must remain the same",
     "output_type": "error",
     "traceback": [
      "\u001b[1;31m---------------------------------------------------------------------------\u001b[0m",
      "\u001b[1;31mComputeError\u001b[0m                              Traceback (most recent call last)",
      "\u001b[1;32mc:\\Users\\HP User\\source\\repos\\GBM-Challenge-2022\\src\\testing.ipynb Cell 9'\u001b[0m in \u001b[0;36m<cell line: 4>\u001b[1;34m()\u001b[0m\n\u001b[0;32m      <a href='vscode-notebook-cell:/c%3A/Users/HP%20User/source/repos/GBM-Challenge-2022/src/testing.ipynb#ch0000008?line=0'>1</a>\u001b[0m \u001b[39mimport\u001b[39;00m \u001b[39mhelpers\u001b[39;00m\u001b[39m.\u001b[39;00m\u001b[39minput_processor\u001b[39;00m \u001b[39mas\u001b[39;00m \u001b[39mip\u001b[39;00m\n\u001b[0;32m      <a href='vscode-notebook-cell:/c%3A/Users/HP%20User/source/repos/GBM-Challenge-2022/src/testing.ipynb#ch0000008?line=1'>2</a>\u001b[0m data_path \u001b[39m=\u001b[39m \u001b[39m'\u001b[39m\u001b[39mdata/raw_training/training_data\u001b[39m\u001b[39m'\u001b[39m\n\u001b[1;32m----> <a href='vscode-notebook-cell:/c%3A/Users/HP%20User/source/repos/GBM-Challenge-2022/src/testing.ipynb#ch0000008?line=3'>4</a>\u001b[0m df \u001b[39m=\u001b[39m ip\u001b[39m.\u001b[39;49mingestData(data_path)\n\u001b[0;32m      <a href='vscode-notebook-cell:/c%3A/Users/HP%20User/source/repos/GBM-Challenge-2022/src/testing.ipynb#ch0000008?line=4'>5</a>\u001b[0m \u001b[39mprint\u001b[39m(df)\n",
      "File \u001b[1;32mc:\\Users\\HP User\\source\\repos\\GBM-Challenge-2022\\src\\helpers\\input_processor.py:104\u001b[0m, in \u001b[0;36mingestData\u001b[1;34m(data_dir)\u001b[0m\n\u001b[0;32m    <a href='file:///c%3A/Users/HP%20User/source/repos/GBM-Challenge-2022/src/helpers/input_processor.py?line=100'>101</a>\u001b[0m             feature_list[\u001b[39m'\u001b[39m\u001b[39mrecording_locations\u001b[39m\u001b[39m'\u001b[39m]\u001b[39m.\u001b[39mappend(patient_recording_locations)\n\u001b[0;32m    <a href='file:///c%3A/Users/HP%20User/source/repos/GBM-Challenge-2022/src/helpers/input_processor.py?line=102'>103</a>\u001b[0m \u001b[39m#Create a polars object to store the data\u001b[39;00m\n\u001b[1;32m--> <a href='file:///c%3A/Users/HP%20User/source/repos/GBM-Challenge-2022/src/helpers/input_processor.py?line=103'>104</a>\u001b[0m df \u001b[39m=\u001b[39m pl\u001b[39m.\u001b[39;49mDataFrame(feature_list)\n\u001b[0;32m    <a href='file:///c%3A/Users/HP%20User/source/repos/GBM-Challenge-2022/src/helpers/input_processor.py?line=105'>106</a>\u001b[0m \u001b[39mreturn\u001b[39;00m df\n",
      "File \u001b[1;32mc:\\Users\\HP User\\AppData\\Local\\Programs\\Python\\Python39\\lib\\site-packages\\polars\\internals\\frame.py:302\u001b[0m, in \u001b[0;36mDataFrame.__init__\u001b[1;34m(self, data, columns, orient)\u001b[0m\n\u001b[0;32m    <a href='file:///c%3A/Users/HP%20User/AppData/Local/Programs/Python/Python39/lib/site-packages/polars/internals/frame.py?line=298'>299</a>\u001b[0m     \u001b[39mself\u001b[39m\u001b[39m.\u001b[39m_df \u001b[39m=\u001b[39m dict_to_pydf({}, columns\u001b[39m=\u001b[39mcolumns)\n\u001b[0;32m    <a href='file:///c%3A/Users/HP%20User/AppData/Local/Programs/Python/Python39/lib/site-packages/polars/internals/frame.py?line=300'>301</a>\u001b[0m \u001b[39melif\u001b[39;00m \u001b[39misinstance\u001b[39m(data, \u001b[39mdict\u001b[39m):\n\u001b[1;32m--> <a href='file:///c%3A/Users/HP%20User/AppData/Local/Programs/Python/Python39/lib/site-packages/polars/internals/frame.py?line=301'>302</a>\u001b[0m     \u001b[39mself\u001b[39m\u001b[39m.\u001b[39m_df \u001b[39m=\u001b[39m dict_to_pydf(data, columns\u001b[39m=\u001b[39;49mcolumns)\n\u001b[0;32m    <a href='file:///c%3A/Users/HP%20User/AppData/Local/Programs/Python/Python39/lib/site-packages/polars/internals/frame.py?line=303'>304</a>\u001b[0m \u001b[39melif\u001b[39;00m \u001b[39misinstance\u001b[39m(data, np\u001b[39m.\u001b[39mndarray):\n\u001b[0;32m    <a href='file:///c%3A/Users/HP%20User/AppData/Local/Programs/Python/Python39/lib/site-packages/polars/internals/frame.py?line=304'>305</a>\u001b[0m     \u001b[39mself\u001b[39m\u001b[39m.\u001b[39m_df \u001b[39m=\u001b[39m numpy_to_pydf(data, columns\u001b[39m=\u001b[39mcolumns, orient\u001b[39m=\u001b[39morient)\n",
      "File \u001b[1;32mc:\\Users\\HP User\\AppData\\Local\\Programs\\Python\\Python39\\lib\\site-packages\\polars\\internals\\construction.py:402\u001b[0m, in \u001b[0;36mdict_to_pydf\u001b[1;34m(data, columns)\u001b[0m\n\u001b[0;32m    <a href='file:///c%3A/Users/HP%20User/AppData/Local/Programs/Python/Python39/lib/site-packages/polars/internals/construction.py?line=399'>400</a>\u001b[0m     \u001b[39mreturn\u001b[39;00m PyDataFrame(data_series)\n\u001b[0;32m    <a href='file:///c%3A/Users/HP%20User/AppData/Local/Programs/Python/Python39/lib/site-packages/polars/internals/construction.py?line=400'>401</a>\u001b[0m \u001b[39m# fast path\u001b[39;00m\n\u001b[1;32m--> <a href='file:///c%3A/Users/HP%20User/AppData/Local/Programs/Python/Python39/lib/site-packages/polars/internals/construction.py?line=401'>402</a>\u001b[0m \u001b[39mreturn\u001b[39;00m PyDataFrame\u001b[39m.\u001b[39;49mread_dict(data)\n",
      "File \u001b[1;32mc:\\Users\\HP User\\AppData\\Local\\Programs\\Python\\Python39\\lib\\site-packages\\polars\\internals\\series.py:227\u001b[0m, in \u001b[0;36mSeries.__init__\u001b[1;34m(self, name, values, dtype, strict, nan_to_null)\u001b[0m\n\u001b[0;32m    <a href='file:///c%3A/Users/HP%20User/AppData/Local/Programs/Python/Python39/lib/site-packages/polars/internals/series.py?line=224'>225</a>\u001b[0m         \u001b[39mself\u001b[39m\u001b[39m.\u001b[39m_s \u001b[39m=\u001b[39m \u001b[39mself\u001b[39m\u001b[39m.\u001b[39mcast(dtype, strict\u001b[39m=\u001b[39m\u001b[39mTrue\u001b[39;00m)\u001b[39m.\u001b[39m_s\n\u001b[0;32m    <a href='file:///c%3A/Users/HP%20User/AppData/Local/Programs/Python/Python39/lib/site-packages/polars/internals/series.py?line=225'>226</a>\u001b[0m \u001b[39melif\u001b[39;00m \u001b[39misinstance\u001b[39m(values, Sequence):\n\u001b[1;32m--> <a href='file:///c%3A/Users/HP%20User/AppData/Local/Programs/Python/Python39/lib/site-packages/polars/internals/series.py?line=226'>227</a>\u001b[0m     \u001b[39mself\u001b[39m\u001b[39m.\u001b[39m_s \u001b[39m=\u001b[39m sequence_to_pyseries(name, values, dtype\u001b[39m=\u001b[39;49mdtype, strict\u001b[39m=\u001b[39;49mstrict)\n\u001b[0;32m    <a href='file:///c%3A/Users/HP%20User/AppData/Local/Programs/Python/Python39/lib/site-packages/polars/internals/series.py?line=227'>228</a>\u001b[0m \u001b[39melif\u001b[39;00m _PANDAS_AVAILABLE \u001b[39mand\u001b[39;00m \u001b[39misinstance\u001b[39m(values, (pd\u001b[39m.\u001b[39mSeries, pd\u001b[39m.\u001b[39mDatetimeIndex)):\n\u001b[0;32m    <a href='file:///c%3A/Users/HP%20User/AppData/Local/Programs/Python/Python39/lib/site-packages/polars/internals/series.py?line=228'>229</a>\u001b[0m     \u001b[39mself\u001b[39m\u001b[39m.\u001b[39m_s \u001b[39m=\u001b[39m pandas_to_pyseries(name, values)\n",
      "File \u001b[1;32mc:\\Users\\HP User\\AppData\\Local\\Programs\\Python\\Python39\\lib\\site-packages\\polars\\internals\\construction.py:243\u001b[0m, in \u001b[0;36msequence_to_pyseries\u001b[1;34m(name, values, dtype, strict)\u001b[0m\n\u001b[0;32m    <a href='file:///c%3A/Users/HP%20User/AppData/Local/Programs/Python/Python39/lib/site-packages/polars/internals/construction.py?line=240'>241</a>\u001b[0m \u001b[39mif\u001b[39;00m constructor \u001b[39m==\u001b[39m PySeries\u001b[39m.\u001b[39mnew_object:\n\u001b[0;32m    <a href='file:///c%3A/Users/HP%20User/AppData/Local/Programs/Python/Python39/lib/site-packages/polars/internals/construction.py?line=241'>242</a>\u001b[0m     \u001b[39mtry\u001b[39;00m:\n\u001b[1;32m--> <a href='file:///c%3A/Users/HP%20User/AppData/Local/Programs/Python/Python39/lib/site-packages/polars/internals/construction.py?line=242'>243</a>\u001b[0m         \u001b[39mreturn\u001b[39;00m PySeries\u001b[39m.\u001b[39;49mnew_from_anyvalues(name, values)\n\u001b[0;32m    <a href='file:///c%3A/Users/HP%20User/AppData/Local/Programs/Python/Python39/lib/site-packages/polars/internals/construction.py?line=243'>244</a>\u001b[0m     \u001b[39m# raised if we cannot convert to Wrap<AnyValue>\u001b[39;00m\n\u001b[0;32m    <a href='file:///c%3A/Users/HP%20User/AppData/Local/Programs/Python/Python39/lib/site-packages/polars/internals/construction.py?line=244'>245</a>\u001b[0m     \u001b[39mexcept\u001b[39;00m \u001b[39mRuntimeError\u001b[39;00m:\n",
      "\u001b[1;31mComputeError\u001b[0m: struct orders must remain the same"
     ]
    }
   ],
   "source": [
    "import helpers.input_processor as ip\n",
    "data_path = 'data/raw_training/training_data'\n",
    "\n",
    "df = ip.ingestData(data_path)\n",
    "print(df)"
   ]
  },
  {
   "cell_type": "code",
   "execution_count": 2,
   "metadata": {},
   "outputs": [
    {
     "name": "stdout",
     "output_type": "stream",
     "text": [
      "    a   b   c              d\n",
      "0   A   B   C    {'D': 'Dd'}\n",
      "1  AA  BB  CC  {'DD': 'DDd'}\n"
     ]
    },
    {
     "ename": "ComputeError",
     "evalue": "struct orders must remain the same",
     "output_type": "error",
     "traceback": [
      "\u001b[1;31m---------------------------------------------------------------------------\u001b[0m",
      "\u001b[1;31mComputeError\u001b[0m                              Traceback (most recent call last)",
      "\u001b[1;32mc:\\Users\\HP User\\source\\repos\\GBM-Challenge-2022\\src\\testing.ipynb Cell 10'\u001b[0m in \u001b[0;36m<cell line: 11>\u001b[1;34m()\u001b[0m\n\u001b[0;32m      <a href='vscode-notebook-cell:/c%3A/Users/HP%20User/source/repos/GBM-Challenge-2022/src/testing.ipynb#ch0000009?line=7'>8</a>\u001b[0m \u001b[39mprint\u001b[39m(df_pandas)\n\u001b[0;32m     <a href='vscode-notebook-cell:/c%3A/Users/HP%20User/source/repos/GBM-Challenge-2022/src/testing.ipynb#ch0000009?line=9'>10</a>\u001b[0m \u001b[39m#create a dataframe using polars\u001b[39;00m\n\u001b[1;32m---> <a href='vscode-notebook-cell:/c%3A/Users/HP%20User/source/repos/GBM-Challenge-2022/src/testing.ipynb#ch0000009?line=10'>11</a>\u001b[0m df_polars \u001b[39m=\u001b[39m pl\u001b[39m.\u001b[39;49mDataFrame(template)\n\u001b[0;32m     <a href='vscode-notebook-cell:/c%3A/Users/HP%20User/source/repos/GBM-Challenge-2022/src/testing.ipynb#ch0000009?line=11'>12</a>\u001b[0m \u001b[39mprint\u001b[39m(df_polars)\n",
      "File \u001b[1;32mc:\\Users\\HP User\\AppData\\Local\\Programs\\Python\\Python39\\lib\\site-packages\\polars\\internals\\frame.py:302\u001b[0m, in \u001b[0;36mDataFrame.__init__\u001b[1;34m(self, data, columns, orient)\u001b[0m\n\u001b[0;32m    <a href='file:///c%3A/Users/HP%20User/AppData/Local/Programs/Python/Python39/lib/site-packages/polars/internals/frame.py?line=298'>299</a>\u001b[0m     \u001b[39mself\u001b[39m\u001b[39m.\u001b[39m_df \u001b[39m=\u001b[39m dict_to_pydf({}, columns\u001b[39m=\u001b[39mcolumns)\n\u001b[0;32m    <a href='file:///c%3A/Users/HP%20User/AppData/Local/Programs/Python/Python39/lib/site-packages/polars/internals/frame.py?line=300'>301</a>\u001b[0m \u001b[39melif\u001b[39;00m \u001b[39misinstance\u001b[39m(data, \u001b[39mdict\u001b[39m):\n\u001b[1;32m--> <a href='file:///c%3A/Users/HP%20User/AppData/Local/Programs/Python/Python39/lib/site-packages/polars/internals/frame.py?line=301'>302</a>\u001b[0m     \u001b[39mself\u001b[39m\u001b[39m.\u001b[39m_df \u001b[39m=\u001b[39m dict_to_pydf(data, columns\u001b[39m=\u001b[39;49mcolumns)\n\u001b[0;32m    <a href='file:///c%3A/Users/HP%20User/AppData/Local/Programs/Python/Python39/lib/site-packages/polars/internals/frame.py?line=303'>304</a>\u001b[0m \u001b[39melif\u001b[39;00m \u001b[39misinstance\u001b[39m(data, np\u001b[39m.\u001b[39mndarray):\n\u001b[0;32m    <a href='file:///c%3A/Users/HP%20User/AppData/Local/Programs/Python/Python39/lib/site-packages/polars/internals/frame.py?line=304'>305</a>\u001b[0m     \u001b[39mself\u001b[39m\u001b[39m.\u001b[39m_df \u001b[39m=\u001b[39m numpy_to_pydf(data, columns\u001b[39m=\u001b[39mcolumns, orient\u001b[39m=\u001b[39morient)\n",
      "File \u001b[1;32mc:\\Users\\HP User\\AppData\\Local\\Programs\\Python\\Python39\\lib\\site-packages\\polars\\internals\\construction.py:402\u001b[0m, in \u001b[0;36mdict_to_pydf\u001b[1;34m(data, columns)\u001b[0m\n\u001b[0;32m    <a href='file:///c%3A/Users/HP%20User/AppData/Local/Programs/Python/Python39/lib/site-packages/polars/internals/construction.py?line=399'>400</a>\u001b[0m     \u001b[39mreturn\u001b[39;00m PyDataFrame(data_series)\n\u001b[0;32m    <a href='file:///c%3A/Users/HP%20User/AppData/Local/Programs/Python/Python39/lib/site-packages/polars/internals/construction.py?line=400'>401</a>\u001b[0m \u001b[39m# fast path\u001b[39;00m\n\u001b[1;32m--> <a href='file:///c%3A/Users/HP%20User/AppData/Local/Programs/Python/Python39/lib/site-packages/polars/internals/construction.py?line=401'>402</a>\u001b[0m \u001b[39mreturn\u001b[39;00m PyDataFrame\u001b[39m.\u001b[39;49mread_dict(data)\n",
      "File \u001b[1;32mc:\\Users\\HP User\\AppData\\Local\\Programs\\Python\\Python39\\lib\\site-packages\\polars\\internals\\series.py:227\u001b[0m, in \u001b[0;36mSeries.__init__\u001b[1;34m(self, name, values, dtype, strict, nan_to_null)\u001b[0m\n\u001b[0;32m    <a href='file:///c%3A/Users/HP%20User/AppData/Local/Programs/Python/Python39/lib/site-packages/polars/internals/series.py?line=224'>225</a>\u001b[0m         \u001b[39mself\u001b[39m\u001b[39m.\u001b[39m_s \u001b[39m=\u001b[39m \u001b[39mself\u001b[39m\u001b[39m.\u001b[39mcast(dtype, strict\u001b[39m=\u001b[39m\u001b[39mTrue\u001b[39;00m)\u001b[39m.\u001b[39m_s\n\u001b[0;32m    <a href='file:///c%3A/Users/HP%20User/AppData/Local/Programs/Python/Python39/lib/site-packages/polars/internals/series.py?line=225'>226</a>\u001b[0m \u001b[39melif\u001b[39;00m \u001b[39misinstance\u001b[39m(values, Sequence):\n\u001b[1;32m--> <a href='file:///c%3A/Users/HP%20User/AppData/Local/Programs/Python/Python39/lib/site-packages/polars/internals/series.py?line=226'>227</a>\u001b[0m     \u001b[39mself\u001b[39m\u001b[39m.\u001b[39m_s \u001b[39m=\u001b[39m sequence_to_pyseries(name, values, dtype\u001b[39m=\u001b[39;49mdtype, strict\u001b[39m=\u001b[39;49mstrict)\n\u001b[0;32m    <a href='file:///c%3A/Users/HP%20User/AppData/Local/Programs/Python/Python39/lib/site-packages/polars/internals/series.py?line=227'>228</a>\u001b[0m \u001b[39melif\u001b[39;00m _PANDAS_AVAILABLE \u001b[39mand\u001b[39;00m \u001b[39misinstance\u001b[39m(values, (pd\u001b[39m.\u001b[39mSeries, pd\u001b[39m.\u001b[39mDatetimeIndex)):\n\u001b[0;32m    <a href='file:///c%3A/Users/HP%20User/AppData/Local/Programs/Python/Python39/lib/site-packages/polars/internals/series.py?line=228'>229</a>\u001b[0m     \u001b[39mself\u001b[39m\u001b[39m.\u001b[39m_s \u001b[39m=\u001b[39m pandas_to_pyseries(name, values)\n",
      "File \u001b[1;32mc:\\Users\\HP User\\AppData\\Local\\Programs\\Python\\Python39\\lib\\site-packages\\polars\\internals\\construction.py:243\u001b[0m, in \u001b[0;36msequence_to_pyseries\u001b[1;34m(name, values, dtype, strict)\u001b[0m\n\u001b[0;32m    <a href='file:///c%3A/Users/HP%20User/AppData/Local/Programs/Python/Python39/lib/site-packages/polars/internals/construction.py?line=240'>241</a>\u001b[0m \u001b[39mif\u001b[39;00m constructor \u001b[39m==\u001b[39m PySeries\u001b[39m.\u001b[39mnew_object:\n\u001b[0;32m    <a href='file:///c%3A/Users/HP%20User/AppData/Local/Programs/Python/Python39/lib/site-packages/polars/internals/construction.py?line=241'>242</a>\u001b[0m     \u001b[39mtry\u001b[39;00m:\n\u001b[1;32m--> <a href='file:///c%3A/Users/HP%20User/AppData/Local/Programs/Python/Python39/lib/site-packages/polars/internals/construction.py?line=242'>243</a>\u001b[0m         \u001b[39mreturn\u001b[39;00m PySeries\u001b[39m.\u001b[39;49mnew_from_anyvalues(name, values)\n\u001b[0;32m    <a href='file:///c%3A/Users/HP%20User/AppData/Local/Programs/Python/Python39/lib/site-packages/polars/internals/construction.py?line=243'>244</a>\u001b[0m     \u001b[39m# raised if we cannot convert to Wrap<AnyValue>\u001b[39;00m\n\u001b[0;32m    <a href='file:///c%3A/Users/HP%20User/AppData/Local/Programs/Python/Python39/lib/site-packages/polars/internals/construction.py?line=244'>245</a>\u001b[0m     \u001b[39mexcept\u001b[39;00m \u001b[39mRuntimeError\u001b[39;00m:\n",
      "\u001b[1;31mComputeError\u001b[0m: struct orders must remain the same"
     ]
    }
   ],
   "source": [
    "import polars as pl\n",
    "import pandas as pd\n",
    "\n",
    "template = {    'a':['A', 'AA'],\n",
    "                'b':['B', 'BB'],\n",
    "                'c':['C', 'CC'],\n",
    "                'd':[{'D':'Dd'}, {'DD':'DDd'}]}\n",
    "\n",
    "#create a dataframe using pandas\n",
    "df_pandas = pd.DataFrame(template)\n",
    "print(df_pandas)\n",
    "\n",
    "#create a dataframe using polars\n",
    "df_polars = pl.DataFrame(template)\n",
    "print(df_polars)"
   ]
  }
 ],
 "metadata": {
  "interpreter": {
   "hash": "7e6d5e7838ad5a6f21e653aad162287478f080f67842ffea6b41d6cafcf50439"
  },
  "kernelspec": {
   "display_name": "Python 3.9.6 64-bit",
   "language": "python",
   "name": "python3"
  },
  "language_info": {
   "codemirror_mode": {
    "name": "ipython",
    "version": 3
   },
   "file_extension": ".py",
   "mimetype": "text/x-python",
   "name": "python",
   "nbconvert_exporter": "python",
   "pygments_lexer": "ipython3",
   "version": "3.9.6"
  },
  "orig_nbformat": 4
 },
 "nbformat": 4,
 "nbformat_minor": 2
}
