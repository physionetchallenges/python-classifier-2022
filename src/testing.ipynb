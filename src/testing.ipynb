{
 "cells": [
  {
   "cell_type": "code",
   "execution_count": null,
   "metadata": {},
   "outputs": [],
   "source": [
    "import numpy as np\n",
    "import matplotlib.pyplot as plt\n",
    "from scipy import signal\n",
    "from scipy.io import wavfile\n",
    "\n",
    "sample_rate, samples = wavfile.read('data/raw_training/training_data/2530_AV.wav')\n",
    "frequencies, times, spectrogram = signal.spectrogram(samples, sample_rate)\n",
    "\n",
    "plt.pcolormesh(times, frequencies, spectrogram)\n",
    "plt.imshow(spectrogram, cmap='hot')\n",
    "plt.show()"
   ]
  },
  {
   "cell_type": "code",
   "execution_count": null,
   "metadata": {},
   "outputs": [],
   "source": [
    "encode = {\n",
    "        'Age':                      {'Neonate': 0.5, 'Infant': 6, 'Child': 6*12, 'Adolescent': 15*12, 'Young Adult': 20*12}, #represent each age group as the approximate number of months for the middle of the age group\n",
    "        'Sex':                      {'Male': 0, 'Female': 1},\n",
    "        'Pregnancy status':         {'True': 1, 'False': 0},\n",
    "        'Murmur':                   {'Present': 1, 'Absent': 0, 'Unkown': 2},\n",
    "        'location':                 {'PV': 0, 'TV': 1, 'AV': 2, 'MV': 3, 'Phc': 4},\n",
    "        'Systolic murmur timing':   {'Early-systolic': 0, 'Holosystolic': 1, 'Mid-systolic': 2, 'Late-systolic': 3},\n",
    "        'Systolic murmur shape':    {'Crescendo': 0, 'Decrescendo': 1, 'Diamond': 2, 'Plateau': 3},\n",
    "        'Systolic murmur pitch':    {'Low': 0, 'Medium': 1, 'High': 2},\n",
    "        'Systolic murmur grading':  {'I/VI': 0, 'II/VI': 1, 'III/VI': 2},\n",
    "        'Systolic murmur quality':  {'Blowing': 0, 'Harsh': 1, 'Musical': 2},\n",
    "        'Diastolic murmur timing':  {'Early-diastolic': 0, 'Holodiastolic': 1, 'Mid-diastolic': 2},\n",
    "        'Diastolic murmur shape':   {'Crescendo': 0, 'Decrescendo': 1, 'Diamond': 2, 'Plateau': 3}, #note: only decresendo and plateau are actually used, other items are included for consistency with 'systolic murmur shape'\n",
    "        'Diastolic murmur pitch':   {'Low': 0, 'Medium': 1, 'High': 2},\n",
    "        'Diastolic murmur grading': {'I/IV': 0, 'II/IV': 1, 'III/IV': 2},\n",
    "        'Diastolic murmur quality': {'Blowing': 0, 'Harsh': 1, 'Musical': 2}, #note: only blowing and harsh are actually used, other items are included for consistency with 'systolic murmur quality'\n",
    "        'Outcome':                  {'Abnormal': 0, 'Normal': 1}\n",
    "    }\n",
    "words = ['Absent', 'Unknown']\n",
    "print(encode.type)\n"
   ]
  },
  {
   "cell_type": "code",
   "execution_count": null,
   "metadata": {},
   "outputs": [],
   "source": [
    "from helpers.input_processor import invert_dict\n",
    "\n",
    "tester = {'a':1, 'b':2, 'c':3, 'a':4}\n",
    "tester_items = tester.items()\n",
    "result = invert_dict(tester)"
   ]
  },
  {
   "cell_type": "code",
   "execution_count": null,
   "metadata": {},
   "outputs": [],
   "source": [
    "from helpers.input_processor import load_cipher\n",
    "\n",
    "encode, decode = load_cipher()\n",
    "print(encode)\n",
    "print(\"\\n\\n\")\n",
    "print(decode)"
   ]
  },
  {
   "cell_type": "code",
   "execution_count": null,
   "metadata": {},
   "outputs": [],
   "source": [
    "txt = \"apple#banana#cherry#orange\"\n",
    "\n",
    "# setting the maxsplit parameter to 1, will return a list with 2 elements!\n",
    "x = txt.split(\"#\", 1)\n",
    "\n",
    "print(x)"
   ]
  },
  {
   "cell_type": "code",
   "execution_count": null,
   "metadata": {},
   "outputs": [],
   "source": [
    "from helpers.input_processor import *"
   ]
  },
  {
   "cell_type": "code",
   "execution_count": null,
   "metadata": {},
   "outputs": [],
   "source": [
    "from helpers.input_processor import *\n",
    "x = ['a']\n",
    "str_in = \"apple: yes\"\n",
    "\n",
    "check_feature(str_in, 'apple', x)"
   ]
  },
  {
   "cell_type": "code",
   "execution_count": null,
   "metadata": {},
   "outputs": [],
   "source": [
    "test = ['a','b','c']\n",
    "x,y,z = test[0], test[1], test[2]\n",
    "print(x)"
   ]
  },
  {
   "cell_type": "code",
   "execution_count": 11,
   "metadata": {},
   "outputs": [
    {
     "ename": "TypeError",
     "evalue": "ingestData() missing 1 required positional argument: 'nan'",
     "output_type": "error",
     "traceback": [
      "\u001b[1;31m---------------------------------------------------------------------------\u001b[0m",
      "\u001b[1;31mTypeError\u001b[0m                                 Traceback (most recent call last)",
      "\u001b[1;32me:\\programming-dir\\dev\\source\\GBM-Challenge-2022\\src\\testing.ipynb Cell 9'\u001b[0m in \u001b[0;36m<module>\u001b[1;34m\u001b[0m\n\u001b[0;32m      <a href='vscode-notebook-cell:/e%3A/programming-dir/dev/source/GBM-Challenge-2022/src/testing.ipynb#ch0000019?line=0'>1</a>\u001b[0m \u001b[39mimport\u001b[39;00m \u001b[39mhelpers\u001b[39;00m\u001b[39m.\u001b[39;00m\u001b[39minput_processor\u001b[39;00m \u001b[39mas\u001b[39;00m \u001b[39mip\u001b[39;00m\n\u001b[0;32m      <a href='vscode-notebook-cell:/e%3A/programming-dir/dev/source/GBM-Challenge-2022/src/testing.ipynb#ch0000019?line=1'>2</a>\u001b[0m data_path \u001b[39m=\u001b[39m \u001b[39m'\u001b[39m\u001b[39mdata/raw_training/training_data\u001b[39m\u001b[39m'\u001b[39m\n\u001b[1;32m----> <a href='vscode-notebook-cell:/e%3A/programming-dir/dev/source/GBM-Challenge-2022/src/testing.ipynb#ch0000019?line=3'>4</a>\u001b[0m df \u001b[39m=\u001b[39m ip\u001b[39m.\u001b[39;49mingestData(data_path)\n\u001b[0;32m      <a href='vscode-notebook-cell:/e%3A/programming-dir/dev/source/GBM-Challenge-2022/src/testing.ipynb#ch0000019?line=4'>5</a>\u001b[0m \u001b[39mprint\u001b[39m(df)\n",
      "\u001b[1;31mTypeError\u001b[0m: ingestData() missing 1 required positional argument: 'nan'"
     ]
    }
   ],
   "source": [
    "import helpers.input_processor as ip\n",
    "data_path = 'data/raw_training/training_data'\n",
    "\n",
    "df = ip.ingestData(data_path)\n",
    "print(df)"
   ]
  },
  {
   "cell_type": "code",
   "execution_count": null,
   "metadata": {},
   "outputs": [],
   "source": [
    "import polars as pl\n",
    "import pandas as pd\n",
    "\n",
    "template = {    'a':['A', 'AA'],\n",
    "                'b':['B', 'BB'],\n",
    "                'c':['C', 'CC'],\n",
    "                'd':[{'D':'Dd'}, {'DD':'DDd'}]}\n",
    "\n",
    "#create a dataframe using pandas\n",
    "df_pandas = pd.DataFrame(template)\n",
    "print(df_pandas)\n",
    "\n",
    "#create a dataframe using polars\n",
    "df_polars = pl.DataFrame(template)\n",
    "print(df_polars)"
   ]
  },
  {
   "cell_type": "code",
   "execution_count": null,
   "metadata": {},
   "outputs": [],
   "source": [
    "from helpers.audio_tools import wav_to_spectrogram\n",
    "\n",
    "import matplotlib.pyplot as plt\n",
    "\n",
    "\n",
    "plt.imshow(wav_to_spectrogram('data/raw_training/training_data/2530_AV.wav'), aspect='auto')"
   ]
  },
  {
   "cell_type": "code",
   "execution_count": 3,
   "metadata": {},
   "outputs": [
    {
     "name": "stdout",
     "output_type": "stream",
     "text": [
      "Ingesting data from  data/raw_training/training_data\n",
      "942\n"
     ]
    }
   ],
   "source": [
    "import os\n",
    "import polars as pl\n",
    "import numpy as np\n",
    "import copy\n",
    "from lut import clinical_iterables, clinical_data\n",
    "\n",
    "\n",
    "\n",
    "def ingestDataV2(data_dir):\n",
    "    print(\"Ingesting data from \", data_dir  )\n",
    "    # we use the deepcopy function to avoid overwriting the original clinical_iterables\n",
    "    # otherwise this creates a super hard to find bug where running the code multiple times\n",
    "    # will result in the output being different each time\n",
    "    data = copy.deepcopy(clinical_data)\n",
    "    for file in os.listdir(data_dir):\n",
    "        if file.endswith(\".txt\"):\n",
    "            # open text file\n",
    "            with open(data_dir + \"/\" + file, \"r\") as f:\n",
    "                # read first line\n",
    "                line = f.readline()\n",
    "                # split line into list\n",
    "                line = line.strip().split(\" \")\n",
    "                data['patient_id'].append(line[0])\n",
    "                data['num_locations'].append(line[1])\n",
    "                data['sampling_frequency'].append(line[2])\n",
    "                \n",
    "                # loop through each line to check if it maches with an iterables\n",
    "                audio_files = []\n",
    "                recording_locations = []\n",
    "                for line in f:\n",
    "                    # check if line contains .wav\n",
    "                    if \".wav\" in line:\n",
    "                        # split the line \n",
    "                        line_split = line.split(\" \")\n",
    "                        audio_files.append(line_split[2]) \n",
    "                        recording_locations.append(line_split[0]) \n",
    "\n",
    "\n",
    "                    for iterable in clinical_iterables:\n",
    "                        if line.startswith(clinical_iterables[iterable]):\n",
    "                            # get the value of the iterable\n",
    "                            value = line.split(': ', 1)[1].strip()\n",
    "                            # add the value to the data\n",
    "                            data[iterable].append(value)\n",
    "                data['audio_files'].append(audio_files)\n",
    "                data['recording_locations'].append(recording_locations)\n",
    "    print(len(data['recording_locations']))\n",
    "\n",
    "                            \n",
    "                \n",
    "\n",
    "                \n",
    "\n",
    "# run the function\n",
    "ingestDataV2('data/raw_training/training_data')"
   ]
  }
 ],
 "metadata": {
  "interpreter": {
   "hash": "7b8c902a5db4bd22b43399a271754202218dc4d05c7622b2f621f708dd6b6e04"
  },
  "kernelspec": {
   "display_name": "Python 3.9.6 64-bit",
   "language": "python",
   "name": "python3"
  },
  "language_info": {
   "codemirror_mode": {
    "name": "ipython",
    "version": 3
   },
   "file_extension": ".py",
   "mimetype": "text/x-python",
   "name": "python",
   "nbconvert_exporter": "python",
   "pygments_lexer": "ipython3",
   "version": "3.9.6"
  },
  "orig_nbformat": 4
 },
 "nbformat": 4,
 "nbformat_minor": 2
}
